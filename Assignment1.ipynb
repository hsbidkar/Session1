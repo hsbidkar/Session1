{
 "cells": [
  {
   "cell_type": "markdown",
   "metadata": {},
   "source": [
    "### Assignment 1"
   ]
  },
  {
   "cell_type": "markdown",
   "metadata": {},
   "source": [
    "## Task 1.1 : Install Jupyter notebook and run the first program and share the screenshot of the output."
   ]
  },
  {
   "cell_type": "markdown",
   "metadata": {},
   "source": [
    "<img src='jupyter_lab.jpg'>"
   ]
  },
  {
   "cell_type": "markdown",
   "metadata": {},
   "source": [
    "## Task 1.2 : Write a program which will find all such numbers which are divisible by 7 but are not a multiple of 5, between 2000 and 3200 (both included). The numbers obtained should be printed in a comma-separated sequence on a single line."
   ]
  },
  {
   "cell_type": "code",
   "execution_count": null,
   "metadata": {},
   "outputs": [],
   "source": [
    "l=list(range(2000,3201))\n",
    "length=len(l)\n",
    "new_l=[]\n",
    "for i in range(length):\n",
    "    if ((l[i] % 7 == 0) & (l[i] % 5 != 0)):\n",
    "        new_l.append(l[i])\n",
    "print(new_l)"
   ]
  },
  {
   "cell_type": "markdown",
   "metadata": {},
   "source": [
    "## Task 1.3 : Write a Python program to accept the user's first and last name and then getting them printed in the the reverse order with a space between first name and last name. "
   ]
  },
  {
   "cell_type": "code",
   "execution_count": null,
   "metadata": {},
   "outputs": [],
   "source": [
    "first_name=input(\"Enter First name: \")\n",
    "last_name=input(\"Enter Last name: \")\n",
    "print(\"Your Name in Reverse order is \"+ first_name[::-1]+\" \"+ last_name[::-1])"
   ]
  },
  {
   "cell_type": "markdown",
   "metadata": {},
   "source": [
    "## Task 1.4 : Write a Python program to find the volume of a sphere with diameter 12 cm.  [Formula: V=4/3 * π * r  3 ]"
   ]
  },
  {
   "cell_type": "code",
   "execution_count": null,
   "metadata": {},
   "outputs": [],
   "source": [
    "d=12\n",
    "r=d/2\n",
    "pi=22/7\n",
    "v=(4/3)*pi*(r**3)\n",
    "\n",
    "print(\"Volume of Sphere with diameter \"+str(d)+\" cm is \"+str(v))"
   ]
  },
  {
   "cell_type": "markdown",
   "metadata": {},
   "source": [
    "## Task 2.1 : Write a program which accepts a sequence of comma-separated numbers from console and generate a list."
   ]
  },
  {
   "cell_type": "code",
   "execution_count": 10,
   "metadata": {},
   "outputs": [
    {
     "name": "stdin",
     "output_type": "stream",
     "text": [
      "Enter comma separated numbers:  2,5,ef,0.2,8,,9f,7\n"
     ]
    },
    {
     "name": "stdout",
     "output_type": "stream",
     "text": [
      "['2', '5', '8', '7']\n"
     ]
    }
   ],
   "source": [
    "ip=input(\"Enter comma separated numbers: \")\n",
    "l=ip.split(',')\n",
    "new_l=[]\n",
    "for i in range(len(l)):\n",
    "    if l[i].isdigit():\n",
    "        new_l.append(l[i])\n",
    "print(new_l)"
   ]
  },
  {
   "cell_type": "markdown",
   "metadata": {},
   "source": [
    "## Task 2.2 : Create the below pattern using nested for loop in Python"
   ]
  },
  {
   "cell_type": "code",
   "execution_count": 13,
   "metadata": {},
   "outputs": [
    {
     "name": "stdout",
     "output_type": "stream",
     "text": [
      "*\n",
      "**\n",
      "***\n",
      "****\n",
      "*****\n",
      "****\n",
      "***\n",
      "**\n",
      "*\n",
      "\n"
     ]
    }
   ],
   "source": [
    "for i in range(1,6):\n",
    "    print(i*'*')\n",
    "    if i==5:\n",
    "        while i>=1:\n",
    "            i-=1\n",
    "            print(i*'*')"
   ]
  },
  {
   "cell_type": "markdown",
   "metadata": {},
   "source": [
    "## Task 2.3 : Write a Python program to reverse a word after accepting the input from the user. "
   ]
  },
  {
   "cell_type": "code",
   "execution_count": 1,
   "metadata": {},
   "outputs": [
    {
     "name": "stdin",
     "output_type": "stream",
     "text": [
      "Enter any String to reverse:  Acad Gild\n"
     ]
    },
    {
     "name": "stdout",
     "output_type": "stream",
     "text": [
      "Reverse of string is dliG dacA\n"
     ]
    }
   ],
   "source": [
    "strg=input(\"Enter any String to reverse: \")\n",
    "rev_strg=strg[::-1]\n",
    "print(\"Reverse of string is \"+ rev_strg)"
   ]
  },
  {
   "cell_type": "markdown",
   "metadata": {},
   "source": [
    "## Task 2.4 : Write a Python Program to print the given string in the format specified in the sample output."
   ]
  },
  {
   "cell_type": "code",
   "execution_count": 8,
   "metadata": {},
   "outputs": [
    {
     "name": "stdout",
     "output_type": "stream",
     "text": [
      "WE, THE PEOPLE OF INDIA,\n",
      "\t having solemnly resolved to constitute India into a SOVEREIGN,!\n",
      "\t\t SOCIALIST, SECULAR, DEMOCRATIC REPUBLIC\n",
      "\t\t  and to secure to all its citizens \n"
     ]
    }
   ],
   "source": [
    "print (\"WE, THE PEOPLE OF INDIA,\"+\"\\n\\t having solemnly resolved to constitute India into a SOVEREIGN,!\"+\"\\n\\t\\t SOCIALIST, SECULAR, DEMOCRATIC REPUBLIC\\n\\t\\t  and to secure to all its citizens \")"
   ]
  }
 ],
 "metadata": {
  "kernelspec": {
   "display_name": "Python 3",
   "language": "python",
   "name": "python3"
  },
  "language_info": {
   "codemirror_mode": {
    "name": "ipython",
    "version": 3
   },
   "file_extension": ".py",
   "mimetype": "text/x-python",
   "name": "python",
   "nbconvert_exporter": "python",
   "pygments_lexer": "ipython3",
   "version": "3.7.1"
  }
 },
 "nbformat": 4,
 "nbformat_minor": 2
}
